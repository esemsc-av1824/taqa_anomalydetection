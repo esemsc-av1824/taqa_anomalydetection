{
 "cells": [
  {
   "cell_type": "code",
   "execution_count": null,
   "id": "bd7b0a0a",
   "metadata": {},
   "outputs": [],
   "source": [
    "# Note: PyCaret 3.3.2 is not compatible with Python 3.12\n",
    "# Using basic ML dependencies instead\n",
    "print(\"Testing environment compatibility...\")\n",
    "import sys\n",
    "print(f\"Python version: {sys.version}\")"
   ]
  },
  {
   "cell_type": "code",
   "execution_count": null,
   "id": "8b61831b",
   "metadata": {},
   "outputs": [],
   "source": [
    "# Test basic ML dependencies without PyCaret (due to Python version compatibility)\n",
    "import sklearn\n",
    "import pandas as pd\n",
    "import numpy as np\n",
    "import matplotlib.pyplot as plt\n",
    "\n",
    "print(f\"✓ scikit-learn: {sklearn.__version__}\")\n",
    "print(f\"✓ pandas: {pd.__version__}\")\n",
    "print(f\"✓ numpy: {np.__version__}\")\n",
    "print(\"\\n✓ Core ML dependencies are working!\")\n",
    "\n",
    "# Test ONNX if available\n",
    "try:\n",
    "    import onnx\n",
    "    import onnxruntime as ort\n",
    "    from skl2onnx import convert_sklearn\n",
    "    print(f\"✓ ONNX: {onnx.__version__}\")\n",
    "    print(f\"✓ ONNX Runtime: {ort.__version__}\")\n",
    "    print(\"✓ ONNX dependencies are working!\")\n",
    "except ImportError as e:\n",
    "    print(f\"⚠ ONNX not available: {e}\")"
   ]
  },
  {
   "cell_type": "code",
   "execution_count": null,
   "id": "cf6f1180",
   "metadata": {},
   "outputs": [],
   "source": []
  }
 ],
 "metadata": {
  "kernelspec": {
   "display_name": "taqa_dl",
   "language": "python",
   "name": "python3"
  },
  "language_info": {
   "codemirror_mode": {
    "name": "ipython",
    "version": 3
   },
   "file_extension": ".py",
   "mimetype": "text/x-python",
   "name": "python",
   "nbconvert_exporter": "python",
   "pygments_lexer": "ipython3",
   "version": "3.11.13"
  }
 },
 "nbformat": 4,
 "nbformat_minor": 5
}
