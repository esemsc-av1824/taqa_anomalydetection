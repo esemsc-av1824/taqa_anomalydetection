{
 "cells": [
  {
   "cell_type": "code",
   "execution_count": 4,
   "id": "bd7b0a0a",
   "metadata": {},
   "outputs": [
    {
     "name": "stdout",
     "output_type": "stream",
     "text": [
      "3.3.2\n"
     ]
    }
   ],
   "source": [
    "import pycaret\n",
    "print(pycaret.__version__)"
   ]
  },
  {
   "cell_type": "code",
   "execution_count": 3,
   "id": "8b61831b",
   "metadata": {},
   "outputs": [
    {
     "ename": "ImportError",
     "evalue": "cannot import name 'check_installation' from 'pycaret.utils' (/home/av1824/miniconda3/envs/taqa_dl/lib/python3.11/site-packages/pycaret/utils/__init__.py)",
     "output_type": "error",
     "traceback": [
      "\u001b[31m---------------------------------------------------------------------------\u001b[39m",
      "\u001b[31mImportError\u001b[39m                               Traceback (most recent call last)",
      "\u001b[36mCell\u001b[39m\u001b[36m \u001b[39m\u001b[32mIn[3]\u001b[39m\u001b[32m, line 1\u001b[39m\n\u001b[32m----> \u001b[39m\u001b[32m1\u001b[39m \u001b[38;5;28;01mfrom\u001b[39;00m\u001b[38;5;250m \u001b[39m\u001b[34;01mpycaret\u001b[39;00m\u001b[34;01m.\u001b[39;00m\u001b[34;01mutils\u001b[39;00m\u001b[38;5;250m \u001b[39m\u001b[38;5;28;01mimport\u001b[39;00m check_installation\n\u001b[32m      2\u001b[39m check_installation()\n",
      "\u001b[31mImportError\u001b[39m: cannot import name 'check_installation' from 'pycaret.utils' (/home/av1824/miniconda3/envs/taqa_dl/lib/python3.11/site-packages/pycaret/utils/__init__.py)"
     ]
    }
   ],
   "source": [
    "from pycaret.utils import check_installation\n",
    "check_installation()"
   ]
  },
  {
   "cell_type": "code",
   "execution_count": null,
   "id": "cf6f1180",
   "metadata": {},
   "outputs": [],
   "source": []
  }
 ],
 "metadata": {
  "kernelspec": {
   "display_name": "taqa_dl",
   "language": "python",
   "name": "python3"
  },
  "language_info": {
   "codemirror_mode": {
    "name": "ipython",
    "version": 3
   },
   "file_extension": ".py",
   "mimetype": "text/x-python",
   "name": "python",
   "nbconvert_exporter": "python",
   "pygments_lexer": "ipython3",
   "version": "3.11.13"
  }
 },
 "nbformat": 4,
 "nbformat_minor": 5
}
